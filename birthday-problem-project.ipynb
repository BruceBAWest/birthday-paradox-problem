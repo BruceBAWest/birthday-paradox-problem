{
 "cells": [
  {
   "cell_type": "markdown",
   "metadata": {},
   "source": [
    "#### Bruce B. A. West"
   ]
  },
  {
   "cell_type": "markdown",
   "metadata": {},
   "source": [
    "# Birthday Problem Project\n",
    "\n",
    "* What programming language are you going to program this assignment in?\n",
    "<br>\n",
    "<br>\n",
    "* Write a program that runs a 1,000 trials of 30 people with the same birthday, and returns the number of times at least two people had the same birthday.\n",
    "<br>\n",
    "<br>\n",
    "* Run program with 50 people, and then a 100 people.\n",
    "___\n",
    "### How did the results differ?\n",
    "___\n",
    "#### HINTS:\n",
    "\n",
    "1. First write a for loop that dynamically assigns random birthdays (days 1 through 365)  to an array the size of the number of people you are considering.\n",
    "<br>\n",
    "<br>\n",
    "2. AFTER THAT WORKS:\n",
    "    * Then write a function that compares the elements of the array to see if any of them are equal, and if you find a set of elements that match, terminate the for loop and increment a global variable (to record that the trial had at least two matching birthdays),\n",
    "<br>\n",
    "<br>\n",
    "3. AFTER THAT WORKS:\n",
    "    * Then in close the previous two for loops in a master for loop that runs the experiment 1000 times, and that has the global variable outside the master for loop.\n",
    "___"
   ]
  },
  {
   "cell_type": "markdown",
   "metadata": {},
   "source": [
    "## First, I choose my language\n",
    "\n",
    "And, as evidenced by this jupyter notebook and the following content, **\"Python, I choose you.\"**\n",
    "___"
   ]
  },
  {
   "cell_type": "markdown",
   "metadata": {},
   "source": [
    "## To get started, I'll create my environment "
   ]
  },
  {
   "cell_type": "code",
   "execution_count": 62,
   "metadata": {},
   "outputs": [],
   "source": [
    "# create environment\n",
    "import random #for random days in range of 365"
   ]
  },
  {
   "cell_type": "markdown",
   "metadata": {},
   "source": [
    "___\n",
    "## Steps Taken\n",
    "___\n",
    "#### First we set the group size with:\n",
    "\n",
    "    `groupSize = 23`\n",
    "___\n",
    "#### Then we set the number of trials with:\n",
    "    `numTrials = 1000`\n",
    "___\n",
    "#### Then we set the default number of matches in the group to zero with:\n",
    "    `matchyMatchy = 0`\n",
    "___\n",
    "#### Now we start our master loop, `trial`. This is what runs everything 1000 times, as set in `range(trialCount)`\n",
    "___\n",
    "#### Inside the *for loop* we create a list of birthdays using the *list method* with: <br>\n",
    "`birthdayList = []\n",
    "for i in range(groupSize):\n",
    "    newBDay = random.randrange(365)\n",
    "    birthdayList.append(newBDay)`\n",
    "\n",
    "___\n",
    "#### Next we use the *count* method to find duplicates in the list with:<br>\n",
    "`foundMatch = False\n",
    "for num in birthdayList:\n",
    "    if birthdayList.count(num) > 1:\n",
    "        foundMatch = True\n",
    "`\n",
    "<br>\n",
    "<br>In the above, we first create and set `foundMatch` to default as `False`.<br>\n",
    "<br>Then we look for any given number, `num`, in `birthdayList` which occurs more than once with:<br>\n",
    "`birthdayList.count(num) > 1`<br>\n",
    "<br>If we find a duplicate, we now set `foundMatch` to equal `True`.\n",
    "___\n",
    "#### To tally the matching pair, we use `foundMatch`to increase the value of `matchyMatchy` by one with:<br>\n",
    "```if foundMatch == True:\n",
    "        matchyMatchy += 1\n",
    "```\n",
    "***\n",
    "#### Now we factor the probability! Yay! Divide `matchyMatchy` by `trialCount` with: <br>\n",
    "`probability = matchyMatchy / trialCount`\n",
    "***\n",
    "#### Lastly, we print it out with:<br>\n",
    "`print(\"The probability of duplicate birthdays in a group of \", groupSize, \" is \", probability)`"
   ]
  },
  {
   "cell_type": "markdown",
   "metadata": {},
   "source": [
    "___\n",
    "## Now for the first round of 30 people"
   ]
  },
  {
   "cell_type": "code",
   "execution_count": 65,
   "metadata": {},
   "outputs": [
    {
     "name": "stdout",
     "output_type": "stream",
     "text": [
      "The probability of duplicate birthdays in a group of  30  is  0.719\n"
     ]
    }
   ],
   "source": [
    "groupSize = 30   #for number of people in group\n",
    "trialCount = 1000 #number of trials\n",
    "matchyMatchy = 0    #number of duplicates defaults to 0 before the list count method runs\n",
    "\n",
    "#master loop, runs the 1000 trials\n",
    "for trial in range(trialCount):\n",
    "    \n",
    "    #creates list of birthdays\n",
    "    #we could see these by typing print(birthdayList) - but there's no need. Python remembers. \n",
    "    birthdayList = []\n",
    "    for i in range(groupSize):\n",
    "        newBDay = random.randrange(365)\n",
    "        birthdayList.append(newBDay)\n",
    "\n",
    "    #now use list count method to count the number of duplicates in birthdayList\n",
    "    foundMatch = False\n",
    "    for num in birthdayList:\n",
    "        if birthdayList.count(num) > 1:\n",
    "           foundMatch = True\n",
    "\n",
    "    if foundMatch == True:\n",
    "        matchyMatchy += 1\n",
    "\n",
    "probability = matchyMatchy / trialCount\n",
    "print(\"The probability of duplicate birthdays in a group of \", groupSize, \" is \", probability)\n"
   ]
  },
  {
   "cell_type": "markdown",
   "metadata": {},
   "source": [
    "___\n",
    "## Now we do the same, but with 50 people"
   ]
  },
  {
   "cell_type": "code",
   "execution_count": 66,
   "metadata": {},
   "outputs": [
    {
     "name": "stdout",
     "output_type": "stream",
     "text": [
      "The probability of duplicate birthdays in a group of  50  is  0.969\n"
     ]
    }
   ],
   "source": [
    "groupSize = 50\n",
    "trialCount = 1000 \n",
    "matchyMatchy = 0    \n",
    "\n",
    "for trial in range(trialCount):\n",
    "    birthdayList = []\n",
    "    for i in range(groupSize):\n",
    "        newBDay = random.randrange(365)\n",
    "        birthdayList.append(newBDay)\n",
    "\n",
    "    foundMatch = False\n",
    "    for num in birthdayList:\n",
    "        if birthdayList.count(num) > 1:\n",
    "           foundMatch = True\n",
    "\n",
    "    if foundMatch == True:\n",
    "        matchyMatchy += 1\n",
    "\n",
    "probability = matchyMatchy / trialCount\n",
    "print(\"The probability of duplicate birthdays in a group of \", groupSize, \" is \", probability)\n"
   ]
  },
  {
   "cell_type": "markdown",
   "metadata": {},
   "source": [
    "___\n",
    "## And again with 100 people"
   ]
  },
  {
   "cell_type": "code",
   "execution_count": 67,
   "metadata": {},
   "outputs": [
    {
     "name": "stdout",
     "output_type": "stream",
     "text": [
      "The probability of duplicate birthdays in a group of  100  is  1.0\n"
     ]
    }
   ],
   "source": [
    "groupSize = 100   \n",
    "trialCount = 1000 \n",
    "matchyMatchy = 0\n",
    "\n",
    "for trial in range(trialCount):\n",
    "    birthdayList = []\n",
    "    for i in range(groupSize):\n",
    "        newBDay = random.randrange(365)\n",
    "        birthdayList.append(newBDay)\n",
    "\n",
    "    foundMatch = False\n",
    "    for num in birthdayList:\n",
    "        if birthdayList.count(num) > 1:\n",
    "           foundMatch = True\n",
    "\n",
    "    if foundMatch == True:\n",
    "        matchyMatchy += 1\n",
    "\n",
    "probability = matchyMatchy / trialCount\n",
    "print(\"The probability of duplicate birthdays in a group of \", groupSize, \" is \", probability)\n"
   ]
  },
  {
   "cell_type": "markdown",
   "metadata": {},
   "source": [
    "___\n",
    "## Conclusion\n",
    "\n",
    "So there we have it, the probability of duplicate birthdays in groups of 30, 50 and 100 across 1000 trials. \n",
    "\n",
    "I'm still getting to know Jupyter notebooks - I'm certain I could've recycled the trial master *for loop* if I were running python in a code editor and using terminal to execute, however I couldn't get this to happen in the jupyter notebook because I need to set the value of groupSize to run before the trial loop, hence the repitition of identical *for loops* in multiple cells"
   ]
  },
  {
   "cell_type": "code",
   "execution_count": null,
   "metadata": {},
   "outputs": [],
   "source": []
  }
 ],
 "metadata": {
  "kernelspec": {
   "display_name": "Python 3",
   "language": "python",
   "name": "python3"
  },
  "language_info": {
   "codemirror_mode": {
    "name": "ipython",
    "version": 3
   },
   "file_extension": ".py",
   "mimetype": "text/x-python",
   "name": "python",
   "nbconvert_exporter": "python",
   "pygments_lexer": "ipython3",
   "version": "3.6.5"
  }
 },
 "nbformat": 4,
 "nbformat_minor": 2
}
